{
 "cells": [
  {
   "cell_type": "code",
   "execution_count": 1,
   "metadata": {},
   "outputs": [],
   "source": [
    "#!/usr/bin/python3\n",
    "\n",
    "from ReadStats import Statistics, Pdfs \n",
    "import netCDF4 as nc\n",
    "import numpy as np\n",
    "import matplotlib.pyplot as plt\n",
    "import matplotlib.style\n",
    "from matplotlib import rc\n",
    "\n",
    "rc('text', usetex=True)\n",
    "rc('text.latex', preamble=r\"\\usepackage{fourier}\")\n",
    "rc('font', family='serif')\n",
    "rc('font', size=24)\n",
    "rc('axes', linewidth=1.5)\n",
    "rc('axes', labelsize=24)\n",
    "rc('lines', linewidth=2)\n",
    "\n",
    "opath = '/Volumes/Seagate/SCRATCH/plots/3D/Re025/Rapids/'\n",
    "\n",
    "path_S0    = '/Volumes/Seagate/SCRATCH/qCBL_3D/Re025/1280x512x1280-S00/'\n",
    "path_S05   = '/Volumes/Seagate/SCRATCH/qCBL_3D/Re025/1280x512x1280-S05/'\n",
    "path_S10   = '/Volumes/Seagate/SCRATCH/qCBL_3D/Re025/1280x512x1280-S10/'\n",
    "path_S15   = '/Volumes/Seagate/SCRATCH/qCBL_3D/Re025/1536x576x1536-S15/'\n",
    "path_S20_1 = '/Volumes/Seagate/SCRATCH/qCBL_3D/Re025/S20-1536x576x1536/'\n",
    "path_S20_2 = '/Volumes/Seagate/SCRATCH/qCBL_3D/Re025/S20-1536x576x2304/'\n",
    "path_S25   = '/Volumes/Seagate/SCRATCH/qCBL_3D/Re025/2560x896x2560-S25/'"
   ]
  },
  {
   "cell_type": "code",
   "execution_count": 2,
   "metadata": {},
   "outputs": [],
   "source": [
    "# Constants\n",
    "\n",
    "nu = 1./15000.\n",
    "B0 = 0.005\n",
    "N = np.sqrt(3)\n",
    "L0 = (B0/N**3)**0.5\n",
    "ceps = 0.1"
   ]
  },
  {
   "cell_type": "code",
   "execution_count": 3,
   "metadata": {},
   "outputs": [],
   "source": [
    "def runningmean(timeseries,window):\n",
    "    \"\"\"\n",
    "    Calculate a running mean of a time series with a specified window size.\n",
    "    Window size is number of entries on either side of the entry being averaged.\n",
    "    Leaves out entries at the beginning and end of the time series such that the\n",
    "    window size is always the same, but the resulting time series is shorter than\n",
    "    the original.\n",
    "    \"\"\"\n",
    "    \n",
    "    nt = len(timeseries)\n",
    "    outseries = np.zeros(nt-(window*2))\n",
    "    for n in range(window,nt-window):\n",
    "        outseries[n-window] = np.mean(timeseries[n-window:n+window+1])\n",
    "    return outseries"
   ]
  },
  {
   "cell_type": "code",
   "execution_count": 4,
   "metadata": {},
   "outputs": [],
   "source": [
    "S0    = Statistics(path_S0+'stats/pdftimes/avg10000-54000.nc')\n",
    "S05   = Statistics(path_S05+'stats/pdftimes/avg12000-67000.nc')\n",
    "S10   = Statistics(path_S10+'stats/pdftimes/avg13000-84000.nc')\n",
    "S15   = Statistics(path_S15+'stats/pdftimes/avg15000-92000.nc')\n",
    "S20_1 = Statistics(path_S20_1+'stats/pdftimes/avg17000-35000.nc')\n",
    "S20_2 = Statistics(path_S20_2+'stats/pdftimes/avg39000-91000.nc')\n",
    "S25   = Statistics(path_S25+'stats/pdftimes/avg28000-128000.nc')\n",
    "\n",
    "z_enc_S20 = np.concatenate((S20_1.z_enc,S20_2.z_enc))\n",
    "z_enc_arg_S20 = np.concatenate((S20_1.z_enc_arg,S20_2.z_enc_arg))\n",
    "\n",
    "z_enc_runningmean_S0 = runningmean(S0.z_enc,1)\n",
    "z_enc_runningmean_S05 = runningmean(S05.z_enc,1)\n",
    "z_enc_runningmean_S10 = runningmean(S10.z_enc,1)\n",
    "z_enc_runningmean_S15 = runningmean(S15.z_enc,1)\n",
    "z_enc_runningmean_S20 = runningmean(z_enc_S20,1)\n",
    "z_enc_runningmean_S25 = runningmean(S25.z_enc,1)"
   ]
  },
  {
   "cell_type": "code",
   "execution_count": 5,
   "metadata": {},
   "outputs": [
    {
     "name": "stdout",
     "output_type": "stream",
     "text": [
      "Files with 64 bins and 512 levels.\n",
      "Processing file /Volumes/Seagate/SCRATCH/qCBL_3D/Re025/1280x512x1280-S00/stats/pdfs/pdf10000.LnEnstrophyW_iW_i ...\n",
      "Processing file /Volumes/Seagate/SCRATCH/qCBL_3D/Re025/1280x512x1280-S00/stats/pdfs/pdf12000.LnEnstrophyW_iW_i ...\n",
      "Processing file /Volumes/Seagate/SCRATCH/qCBL_3D/Re025/1280x512x1280-S00/stats/pdfs/pdf14000.LnEnstrophyW_iW_i ...\n",
      "Processing file /Volumes/Seagate/SCRATCH/qCBL_3D/Re025/1280x512x1280-S00/stats/pdfs/pdf16000.LnEnstrophyW_iW_i ...\n",
      "Processing file /Volumes/Seagate/SCRATCH/qCBL_3D/Re025/1280x512x1280-S00/stats/pdfs/pdf18000.LnEnstrophyW_iW_i ...\n",
      "Processing file /Volumes/Seagate/SCRATCH/qCBL_3D/Re025/1280x512x1280-S00/stats/pdfs/pdf20000.LnEnstrophyW_iW_i ...\n",
      "Processing file /Volumes/Seagate/SCRATCH/qCBL_3D/Re025/1280x512x1280-S00/stats/pdfs/pdf22000.LnEnstrophyW_iW_i ...\n",
      "Processing file /Volumes/Seagate/SCRATCH/qCBL_3D/Re025/1280x512x1280-S00/stats/pdfs/pdf24000.LnEnstrophyW_iW_i ...\n",
      "Processing file /Volumes/Seagate/SCRATCH/qCBL_3D/Re025/1280x512x1280-S00/stats/pdfs/pdf26000.LnEnstrophyW_iW_i ...\n",
      "Processing file /Volumes/Seagate/SCRATCH/qCBL_3D/Re025/1280x512x1280-S00/stats/pdfs/pdf30000.LnEnstrophyW_iW_i ...\n",
      "Processing file /Volumes/Seagate/SCRATCH/qCBL_3D/Re025/1280x512x1280-S00/stats/pdfs/pdf34000.LnEnstrophyW_iW_i ...\n",
      "Processing file /Volumes/Seagate/SCRATCH/qCBL_3D/Re025/1280x512x1280-S00/stats/pdfs/pdf38000.LnEnstrophyW_iW_i ...\n",
      "Processing file /Volumes/Seagate/SCRATCH/qCBL_3D/Re025/1280x512x1280-S00/stats/pdfs/pdf42000.LnEnstrophyW_iW_i ...\n",
      "Processing file /Volumes/Seagate/SCRATCH/qCBL_3D/Re025/1280x512x1280-S00/stats/pdfs/pdf46000.LnEnstrophyW_iW_i ...\n",
      "Processing file /Volumes/Seagate/SCRATCH/qCBL_3D/Re025/1280x512x1280-S00/stats/pdfs/pdf50000.LnEnstrophyW_iW_i ...\n",
      "Processing file /Volumes/Seagate/SCRATCH/qCBL_3D/Re025/1280x512x1280-S00/stats/pdfs/pdf54000.LnEnstrophyW_iW_i ...\n",
      "Files with 64 bins and 512 levels.\n",
      "Processing file /Volumes/Seagate/SCRATCH/qCBL_3D/Re025/1280x512x1280-S05/stats/pdfs/pdf12000.LnEnstrophyW_iW_i ...\n",
      "Processing file /Volumes/Seagate/SCRATCH/qCBL_3D/Re025/1280x512x1280-S05/stats/pdfs/pdf14000.LnEnstrophyW_iW_i ...\n",
      "Processing file /Volumes/Seagate/SCRATCH/qCBL_3D/Re025/1280x512x1280-S05/stats/pdfs/pdf17000.LnEnstrophyW_iW_i ...\n",
      "Processing file /Volumes/Seagate/SCRATCH/qCBL_3D/Re025/1280x512x1280-S05/stats/pdfs/pdf19000.LnEnstrophyW_iW_i ...\n",
      "Processing file /Volumes/Seagate/SCRATCH/qCBL_3D/Re025/1280x512x1280-S05/stats/pdfs/pdf22000.LnEnstrophyW_iW_i ...\n",
      "Processing file /Volumes/Seagate/SCRATCH/qCBL_3D/Re025/1280x512x1280-S05/stats/pdfs/pdf25000.LnEnstrophyW_iW_i ...\n",
      "Processing file /Volumes/Seagate/SCRATCH/qCBL_3D/Re025/1280x512x1280-S05/stats/pdfs/pdf28000.LnEnstrophyW_iW_i ...\n",
      "Processing file /Volumes/Seagate/SCRATCH/qCBL_3D/Re025/1280x512x1280-S05/stats/pdfs/pdf31000.LnEnstrophyW_iW_i ...\n",
      "Processing file /Volumes/Seagate/SCRATCH/qCBL_3D/Re025/1280x512x1280-S05/stats/pdfs/pdf34000.LnEnstrophyW_iW_i ...\n",
      "Processing file /Volumes/Seagate/SCRATCH/qCBL_3D/Re025/1280x512x1280-S05/stats/pdfs/pdf38000.LnEnstrophyW_iW_i ...\n",
      "Processing file /Volumes/Seagate/SCRATCH/qCBL_3D/Re025/1280x512x1280-S05/stats/pdfs/pdf42000.LnEnstrophyW_iW_i ...\n",
      "Processing file /Volumes/Seagate/SCRATCH/qCBL_3D/Re025/1280x512x1280-S05/stats/pdfs/pdf47000.LnEnstrophyW_iW_i ...\n",
      "Processing file /Volumes/Seagate/SCRATCH/qCBL_3D/Re025/1280x512x1280-S05/stats/pdfs/pdf52000.LnEnstrophyW_iW_i ...\n",
      "Processing file /Volumes/Seagate/SCRATCH/qCBL_3D/Re025/1280x512x1280-S05/stats/pdfs/pdf57000.LnEnstrophyW_iW_i ...\n",
      "Processing file /Volumes/Seagate/SCRATCH/qCBL_3D/Re025/1280x512x1280-S05/stats/pdfs/pdf62000.LnEnstrophyW_iW_i ...\n",
      "Processing file /Volumes/Seagate/SCRATCH/qCBL_3D/Re025/1280x512x1280-S05/stats/pdfs/pdf67000.LnEnstrophyW_iW_i ...\n",
      "Files with 64 bins and 512 levels.\n",
      "Processing file /Volumes/Seagate/SCRATCH/qCBL_3D/Re025/1280x512x1280-S10/stats/pdfs/pdf13000.LnEnstrophyW_iW_i ...\n",
      "Processing file /Volumes/Seagate/SCRATCH/qCBL_3D/Re025/1280x512x1280-S10/stats/pdfs/pdf16000.LnEnstrophyW_iW_i ...\n",
      "Processing file /Volumes/Seagate/SCRATCH/qCBL_3D/Re025/1280x512x1280-S10/stats/pdfs/pdf18000.LnEnstrophyW_iW_i ...\n",
      "Processing file /Volumes/Seagate/SCRATCH/qCBL_3D/Re025/1280x512x1280-S10/stats/pdfs/pdf21000.LnEnstrophyW_iW_i ...\n",
      "Processing file /Volumes/Seagate/SCRATCH/qCBL_3D/Re025/1280x512x1280-S10/stats/pdfs/pdf24000.LnEnstrophyW_iW_i ...\n",
      "Processing file /Volumes/Seagate/SCRATCH/qCBL_3D/Re025/1280x512x1280-S10/stats/pdfs/pdf28000.LnEnstrophyW_iW_i ...\n",
      "Processing file /Volumes/Seagate/SCRATCH/qCBL_3D/Re025/1280x512x1280-S10/stats/pdfs/pdf32000.LnEnstrophyW_iW_i ...\n",
      "Processing file /Volumes/Seagate/SCRATCH/qCBL_3D/Re025/1280x512x1280-S10/stats/pdfs/pdf37000.LnEnstrophyW_iW_i ...\n",
      "Processing file /Volumes/Seagate/SCRATCH/qCBL_3D/Re025/1280x512x1280-S10/stats/pdfs/pdf41000.LnEnstrophyW_iW_i ...\n",
      "Processing file /Volumes/Seagate/SCRATCH/qCBL_3D/Re025/1280x512x1280-S10/stats/pdfs/pdf46000.LnEnstrophyW_iW_i ...\n",
      "Processing file /Volumes/Seagate/SCRATCH/qCBL_3D/Re025/1280x512x1280-S10/stats/pdfs/pdf52000.LnEnstrophyW_iW_i ...\n",
      "Processing file /Volumes/Seagate/SCRATCH/qCBL_3D/Re025/1280x512x1280-S10/stats/pdfs/pdf58000.LnEnstrophyW_iW_i ...\n",
      "Processing file /Volumes/Seagate/SCRATCH/qCBL_3D/Re025/1280x512x1280-S10/stats/pdfs/pdf64000.LnEnstrophyW_iW_i ...\n",
      "Processing file /Volumes/Seagate/SCRATCH/qCBL_3D/Re025/1280x512x1280-S10/stats/pdfs/pdf70000.LnEnstrophyW_iW_i ...\n",
      "Processing file /Volumes/Seagate/SCRATCH/qCBL_3D/Re025/1280x512x1280-S10/stats/pdfs/pdf77000.LnEnstrophyW_iW_i ...\n",
      "Processing file /Volumes/Seagate/SCRATCH/qCBL_3D/Re025/1280x512x1280-S10/stats/pdfs/pdf84000.LnEnstrophyW_iW_i ...\n",
      "Files with 64 bins and 576 levels.\n",
      "Processing file /Volumes/Seagate/SCRATCH/qCBL_3D/Re025/1536x576x1536-S15/stats/pdfs/pdf15000.LnEnstrophyW_iW_i ...\n",
      "Processing file /Volumes/Seagate/SCRATCH/qCBL_3D/Re025/1536x576x1536-S15/stats/pdfs/pdf18000.LnEnstrophyW_iW_i ...\n",
      "Processing file /Volumes/Seagate/SCRATCH/qCBL_3D/Re025/1536x576x1536-S15/stats/pdfs/pdf21000.LnEnstrophyW_iW_i ...\n",
      "Processing file /Volumes/Seagate/SCRATCH/qCBL_3D/Re025/1536x576x1536-S15/stats/pdfs/pdf24000.LnEnstrophyW_iW_i ...\n",
      "Processing file /Volumes/Seagate/SCRATCH/qCBL_3D/Re025/1536x576x1536-S15/stats/pdfs/pdf27000.LnEnstrophyW_iW_i ...\n",
      "Processing file /Volumes/Seagate/SCRATCH/qCBL_3D/Re025/1536x576x1536-S15/stats/pdfs/pdf31000.LnEnstrophyW_iW_i ...\n",
      "Processing file /Volumes/Seagate/SCRATCH/qCBL_3D/Re025/1536x576x1536-S15/stats/pdfs/pdf35000.LnEnstrophyW_iW_i ...\n",
      "Processing file /Volumes/Seagate/SCRATCH/qCBL_3D/Re025/1536x576x1536-S15/stats/pdfs/pdf40000.LnEnstrophyW_iW_i ...\n",
      "Processing file /Volumes/Seagate/SCRATCH/qCBL_3D/Re025/1536x576x1536-S15/stats/pdfs/pdf45000.LnEnstrophyW_iW_i ...\n",
      "Processing file /Volumes/Seagate/SCRATCH/qCBL_3D/Re025/1536x576x1536-S15/stats/pdfs/pdf50000.LnEnstrophyW_iW_i ...\n",
      "Processing file /Volumes/Seagate/SCRATCH/qCBL_3D/Re025/1536x576x1536-S15/stats/pdfs/pdf56000.LnEnstrophyW_iW_i ...\n",
      "Processing file /Volumes/Seagate/SCRATCH/qCBL_3D/Re025/1536x576x1536-S15/stats/pdfs/pdf63000.LnEnstrophyW_iW_i ...\n",
      "Processing file /Volumes/Seagate/SCRATCH/qCBL_3D/Re025/1536x576x1536-S15/stats/pdfs/pdf69000.LnEnstrophyW_iW_i ...\n",
      "Processing file /Volumes/Seagate/SCRATCH/qCBL_3D/Re025/1536x576x1536-S15/stats/pdfs/pdf76000.LnEnstrophyW_iW_i ...\n",
      "Processing file /Volumes/Seagate/SCRATCH/qCBL_3D/Re025/1536x576x1536-S15/stats/pdfs/pdf84000.LnEnstrophyW_iW_i ...\n",
      "Processing file /Volumes/Seagate/SCRATCH/qCBL_3D/Re025/1536x576x1536-S15/stats/pdfs/pdf92000.LnEnstrophyW_iW_i ...\n",
      "Files with 64 bins and 576 levels.\n",
      "Processing file /Volumes/Seagate/SCRATCH/qCBL_3D/Re025/S20-1536x576x1536/stats/pdfs/pdf17000.LnEnstrophyW_iW_i ...\n",
      "Processing file /Volumes/Seagate/SCRATCH/qCBL_3D/Re025/S20-1536x576x1536/stats/pdfs/pdf19000.LnEnstrophyW_iW_i ...\n",
      "Processing file /Volumes/Seagate/SCRATCH/qCBL_3D/Re025/S20-1536x576x1536/stats/pdfs/pdf22000.LnEnstrophyW_iW_i ...\n",
      "Processing file /Volumes/Seagate/SCRATCH/qCBL_3D/Re025/S20-1536x576x1536/stats/pdfs/pdf25000.LnEnstrophyW_iW_i ...\n",
      "Processing file /Volumes/Seagate/SCRATCH/qCBL_3D/Re025/S20-1536x576x1536/stats/pdfs/pdf28000.LnEnstrophyW_iW_i ...\n",
      "Processing file /Volumes/Seagate/SCRATCH/qCBL_3D/Re025/S20-1536x576x1536/stats/pdfs/pdf31000.LnEnstrophyW_iW_i ...\n",
      "Processing file /Volumes/Seagate/SCRATCH/qCBL_3D/Re025/S20-1536x576x1536/stats/pdfs/pdf35000.LnEnstrophyW_iW_i ...\n"
     ]
    },
    {
     "name": "stdout",
     "output_type": "stream",
     "text": [
      "Files with 64 bins and 576 levels.\n",
      "Processing file /Volumes/Seagate/SCRATCH/qCBL_3D/Re025/S20-1536x576x2304/stats/pdfs/pdf39000.LnEnstrophyW_iW_i ...\n",
      "Processing file /Volumes/Seagate/SCRATCH/qCBL_3D/Re025/S20-1536x576x2304/stats/pdfs/pdf44000.LnEnstrophyW_iW_i ...\n",
      "Processing file /Volumes/Seagate/SCRATCH/qCBL_3D/Re025/S20-1536x576x2304/stats/pdfs/pdf50000.LnEnstrophyW_iW_i ...\n",
      "Processing file /Volumes/Seagate/SCRATCH/qCBL_3D/Re025/S20-1536x576x2304/stats/pdfs/pdf63000.LnEnstrophyW_iW_i ...\n",
      "Processing file /Volumes/Seagate/SCRATCH/qCBL_3D/Re025/S20-1536x576x2304/stats/pdfs/pdf64000.LnEnstrophyW_iW_i ...\n",
      "Processing file /Volumes/Seagate/SCRATCH/qCBL_3D/Re025/S20-1536x576x2304/stats/pdfs/pdf67000.LnEnstrophyW_iW_i ...\n",
      "Processing file /Volumes/Seagate/SCRATCH/qCBL_3D/Re025/S20-1536x576x2304/stats/pdfs/pdf75000.LnEnstrophyW_iW_i ...\n",
      "Processing file /Volumes/Seagate/SCRATCH/qCBL_3D/Re025/S20-1536x576x2304/stats/pdfs/pdf84000.LnEnstrophyW_iW_i ...\n",
      "Processing file /Volumes/Seagate/SCRATCH/qCBL_3D/Re025/S20-1536x576x2304/stats/pdfs/pdf91000.LnEnstrophyW_iW_i ...\n",
      "Files with 64 bins and 896 levels.\n",
      "Processing file /Volumes/Seagate/SCRATCH/qCBL_3D/Re025/2560x896x2560-S25/stats/pdfs/pdf28000.LnEnstrophyW_iW_i ...\n",
      "Processing file /Volumes/Seagate/SCRATCH/qCBL_3D/Re025/2560x896x2560-S25/stats/pdfs/pdf32000.LnEnstrophyW_iW_i ...\n",
      "Processing file /Volumes/Seagate/SCRATCH/qCBL_3D/Re025/2560x896x2560-S25/stats/pdfs/pdf36000.LnEnstrophyW_iW_i ...\n",
      "Processing file /Volumes/Seagate/SCRATCH/qCBL_3D/Re025/2560x896x2560-S25/stats/pdfs/pdf41000.LnEnstrophyW_iW_i ...\n",
      "Processing file /Volumes/Seagate/SCRATCH/qCBL_3D/Re025/2560x896x2560-S25/stats/pdfs/pdf46000.LnEnstrophyW_iW_i ...\n",
      "Processing file /Volumes/Seagate/SCRATCH/qCBL_3D/Re025/2560x896x2560-S25/stats/pdfs/pdf51000.LnEnstrophyW_iW_i ...\n",
      "Processing file /Volumes/Seagate/SCRATCH/qCBL_3D/Re025/2560x896x2560-S25/stats/pdfs/pdf57000.LnEnstrophyW_iW_i ...\n",
      "Processing file /Volumes/Seagate/SCRATCH/qCBL_3D/Re025/2560x896x2560-S25/stats/pdfs/pdf63000.LnEnstrophyW_iW_i ...\n",
      "Processing file /Volumes/Seagate/SCRATCH/qCBL_3D/Re025/2560x896x2560-S25/stats/pdfs/pdf70000.LnEnstrophyW_iW_i ...\n",
      "Processing file /Volumes/Seagate/SCRATCH/qCBL_3D/Re025/2560x896x2560-S25/stats/pdfs/pdf77000.LnEnstrophyW_iW_i ...\n",
      "Processing file /Volumes/Seagate/SCRATCH/qCBL_3D/Re025/2560x896x2560-S25/stats/pdfs/pdf85000.LnEnstrophyW_iW_i ...\n",
      "Processing file /Volumes/Seagate/SCRATCH/qCBL_3D/Re025/2560x896x2560-S25/stats/pdfs/pdf93000.LnEnstrophyW_iW_i ...\n",
      "Processing file /Volumes/Seagate/SCRATCH/qCBL_3D/Re025/2560x896x2560-S25/stats/pdfs/pdf101000.LnEnstrophyW_iW_i ...\n",
      "Processing file /Volumes/Seagate/SCRATCH/qCBL_3D/Re025/2560x896x2560-S25/stats/pdfs/pdf110000.LnEnstrophyW_iW_i ...\n",
      "Processing file /Volumes/Seagate/SCRATCH/qCBL_3D/Re025/2560x896x2560-S25/stats/pdfs/pdf119000.LnEnstrophyW_iW_i ...\n",
      "Processing file /Volumes/Seagate/SCRATCH/qCBL_3D/Re025/2560x896x2560-S25/stats/pdfs/pdf128000.LnEnstrophyW_iW_i ...\n"
     ]
    }
   ],
   "source": [
    "# Pdf\n",
    "\n",
    "vortlist_S0 = [path_S0+'stats/pdfs/pdf10000.LnEnstrophyW_iW_i',\n",
    "               path_S0+'stats/pdfs/pdf12000.LnEnstrophyW_iW_i',\n",
    "               path_S0+'stats/pdfs/pdf14000.LnEnstrophyW_iW_i',\n",
    "               path_S0+'stats/pdfs/pdf16000.LnEnstrophyW_iW_i',\n",
    "               path_S0+'stats/pdfs/pdf18000.LnEnstrophyW_iW_i',\n",
    "               path_S0+'stats/pdfs/pdf20000.LnEnstrophyW_iW_i',\n",
    "               path_S0+'stats/pdfs/pdf22000.LnEnstrophyW_iW_i',\n",
    "               path_S0+'stats/pdfs/pdf24000.LnEnstrophyW_iW_i',\n",
    "               path_S0+'stats/pdfs/pdf26000.LnEnstrophyW_iW_i',\n",
    "               path_S0+'stats/pdfs/pdf30000.LnEnstrophyW_iW_i',\n",
    "               path_S0+'stats/pdfs/pdf34000.LnEnstrophyW_iW_i',\n",
    "               path_S0+'stats/pdfs/pdf38000.LnEnstrophyW_iW_i',\n",
    "               path_S0+'stats/pdfs/pdf42000.LnEnstrophyW_iW_i',\n",
    "               path_S0+'stats/pdfs/pdf46000.LnEnstrophyW_iW_i',\n",
    "               path_S0+'stats/pdfs/pdf50000.LnEnstrophyW_iW_i',\n",
    "               path_S0+'stats/pdfs/pdf54000.LnEnstrophyW_iW_i']\n",
    "\n",
    "vortlist_S05 = [path_S05+'stats/pdfs/pdf12000.LnEnstrophyW_iW_i',\n",
    "                path_S05+'stats/pdfs/pdf14000.LnEnstrophyW_iW_i',\n",
    "                path_S05+'stats/pdfs/pdf17000.LnEnstrophyW_iW_i',\n",
    "                path_S05+'stats/pdfs/pdf19000.LnEnstrophyW_iW_i',\n",
    "                path_S05+'stats/pdfs/pdf22000.LnEnstrophyW_iW_i',\n",
    "                path_S05+'stats/pdfs/pdf25000.LnEnstrophyW_iW_i',\n",
    "                path_S05+'stats/pdfs/pdf28000.LnEnstrophyW_iW_i',\n",
    "                path_S05+'stats/pdfs/pdf31000.LnEnstrophyW_iW_i',\n",
    "                path_S05+'stats/pdfs/pdf34000.LnEnstrophyW_iW_i',\n",
    "                path_S05+'stats/pdfs/pdf38000.LnEnstrophyW_iW_i',\n",
    "                path_S05+'stats/pdfs/pdf42000.LnEnstrophyW_iW_i',\n",
    "                path_S05+'stats/pdfs/pdf47000.LnEnstrophyW_iW_i',\n",
    "                path_S05+'stats/pdfs/pdf52000.LnEnstrophyW_iW_i',\n",
    "                path_S05+'stats/pdfs/pdf57000.LnEnstrophyW_iW_i',\n",
    "                path_S05+'stats/pdfs/pdf62000.LnEnstrophyW_iW_i',\n",
    "                path_S05+'stats/pdfs/pdf67000.LnEnstrophyW_iW_i']\n",
    "\n",
    "vortlist_S10 = [path_S10+'stats/pdfs/pdf13000.LnEnstrophyW_iW_i',\n",
    "                path_S10+'stats/pdfs/pdf16000.LnEnstrophyW_iW_i',\n",
    "                path_S10+'stats/pdfs/pdf18000.LnEnstrophyW_iW_i',\n",
    "                path_S10+'stats/pdfs/pdf21000.LnEnstrophyW_iW_i',\n",
    "                path_S10+'stats/pdfs/pdf24000.LnEnstrophyW_iW_i',\n",
    "                path_S10+'stats/pdfs/pdf28000.LnEnstrophyW_iW_i',\n",
    "                path_S10+'stats/pdfs/pdf32000.LnEnstrophyW_iW_i',\n",
    "                path_S10+'stats/pdfs/pdf37000.LnEnstrophyW_iW_i',\n",
    "                path_S10+'stats/pdfs/pdf41000.LnEnstrophyW_iW_i',\n",
    "                path_S10+'stats/pdfs/pdf46000.LnEnstrophyW_iW_i',\n",
    "                path_S10+'stats/pdfs/pdf52000.LnEnstrophyW_iW_i',\n",
    "                path_S10+'stats/pdfs/pdf58000.LnEnstrophyW_iW_i',\n",
    "                path_S10+'stats/pdfs/pdf64000.LnEnstrophyW_iW_i',\n",
    "                path_S10+'stats/pdfs/pdf70000.LnEnstrophyW_iW_i',\n",
    "                path_S10+'stats/pdfs/pdf77000.LnEnstrophyW_iW_i',\n",
    "                path_S10+'stats/pdfs/pdf84000.LnEnstrophyW_iW_i']\n",
    "\n",
    "vortlist_S15 = [path_S15+'stats/pdfs/pdf15000.LnEnstrophyW_iW_i',\n",
    "                path_S15+'stats/pdfs/pdf18000.LnEnstrophyW_iW_i',\n",
    "                path_S15+'stats/pdfs/pdf21000.LnEnstrophyW_iW_i',\n",
    "                path_S15+'stats/pdfs/pdf24000.LnEnstrophyW_iW_i',\n",
    "                path_S15+'stats/pdfs/pdf27000.LnEnstrophyW_iW_i',\n",
    "                path_S15+'stats/pdfs/pdf31000.LnEnstrophyW_iW_i',\n",
    "                path_S15+'stats/pdfs/pdf35000.LnEnstrophyW_iW_i',\n",
    "                path_S15+'stats/pdfs/pdf40000.LnEnstrophyW_iW_i',\n",
    "                path_S15+'stats/pdfs/pdf45000.LnEnstrophyW_iW_i',\n",
    "                path_S15+'stats/pdfs/pdf50000.LnEnstrophyW_iW_i',\n",
    "                path_S15+'stats/pdfs/pdf56000.LnEnstrophyW_iW_i',\n",
    "                path_S15+'stats/pdfs/pdf63000.LnEnstrophyW_iW_i',\n",
    "                path_S15+'stats/pdfs/pdf69000.LnEnstrophyW_iW_i',\n",
    "                path_S15+'stats/pdfs/pdf76000.LnEnstrophyW_iW_i',\n",
    "                path_S15+'stats/pdfs/pdf84000.LnEnstrophyW_iW_i',\n",
    "                path_S15+'stats/pdfs/pdf92000.LnEnstrophyW_iW_i']\n",
    "\n",
    "vortlist_S20_1 = [path_S20_1+'stats/pdfs/pdf17000.LnEnstrophyW_iW_i',\n",
    "                  path_S20_1+'stats/pdfs/pdf19000.LnEnstrophyW_iW_i',\n",
    "                  path_S20_1+'stats/pdfs/pdf22000.LnEnstrophyW_iW_i',\n",
    "                  path_S20_1+'stats/pdfs/pdf25000.LnEnstrophyW_iW_i',\n",
    "                  path_S20_1+'stats/pdfs/pdf28000.LnEnstrophyW_iW_i',\n",
    "                  path_S20_1+'stats/pdfs/pdf31000.LnEnstrophyW_iW_i',\n",
    "                  path_S20_1+'stats/pdfs/pdf35000.LnEnstrophyW_iW_i']\n",
    "vortlist_S20_2 = [path_S20_2+'stats/pdfs/pdf39000.LnEnstrophyW_iW_i',\n",
    "                  path_S20_2+'stats/pdfs/pdf44000.LnEnstrophyW_iW_i',\n",
    "                  path_S20_2+'stats/pdfs/pdf50000.LnEnstrophyW_iW_i',\n",
    "                  path_S20_2+'stats/pdfs/pdf63000.LnEnstrophyW_iW_i',\n",
    "                  path_S20_2+'stats/pdfs/pdf64000.LnEnstrophyW_iW_i',\n",
    "                  path_S20_2+'stats/pdfs/pdf67000.LnEnstrophyW_iW_i',\n",
    "                  path_S20_2+'stats/pdfs/pdf75000.LnEnstrophyW_iW_i',\n",
    "                  path_S20_2+'stats/pdfs/pdf84000.LnEnstrophyW_iW_i',\n",
    "                  path_S20_2+'stats/pdfs/pdf91000.LnEnstrophyW_iW_i']\n",
    "\n",
    "vortlist_S25 = [path_S25+'stats/pdfs/pdf28000.LnEnstrophyW_iW_i',\n",
    "                path_S25+'stats/pdfs/pdf32000.LnEnstrophyW_iW_i',\n",
    "                path_S25+'stats/pdfs/pdf36000.LnEnstrophyW_iW_i',\n",
    "                path_S25+'stats/pdfs/pdf41000.LnEnstrophyW_iW_i',\n",
    "                path_S25+'stats/pdfs/pdf46000.LnEnstrophyW_iW_i',\n",
    "                path_S25+'stats/pdfs/pdf51000.LnEnstrophyW_iW_i',\n",
    "                path_S25+'stats/pdfs/pdf57000.LnEnstrophyW_iW_i',\n",
    "                path_S25+'stats/pdfs/pdf63000.LnEnstrophyW_iW_i',\n",
    "                path_S25+'stats/pdfs/pdf70000.LnEnstrophyW_iW_i',\n",
    "                path_S25+'stats/pdfs/pdf77000.LnEnstrophyW_iW_i',\n",
    "                path_S25+'stats/pdfs/pdf85000.LnEnstrophyW_iW_i',\n",
    "                path_S25+'stats/pdfs/pdf93000.LnEnstrophyW_iW_i',\n",
    "                path_S25+'stats/pdfs/pdf101000.LnEnstrophyW_iW_i',\n",
    "                path_S25+'stats/pdfs/pdf110000.LnEnstrophyW_iW_i',\n",
    "                path_S25+'stats/pdfs/pdf119000.LnEnstrophyW_iW_i',\n",
    "                path_S25+'stats/pdfs/pdf128000.LnEnstrophyW_iW_i']\n",
    "\n",
    "\n",
    "vortpdf_S0    = Pdfs(vortlist_S0,path_S0+'y.dat')\n",
    "vortpdf_S05   = Pdfs(vortlist_S05,path_S05+'y.dat')\n",
    "vortpdf_S10   = Pdfs(vortlist_S10,path_S10+'y.dat')\n",
    "vortpdf_S15   = Pdfs(vortlist_S15,path_S15+'y.dat')\n",
    "vortpdf_S20_1 = Pdfs(vortlist_S20_1,path_S20_1+'y.dat')\n",
    "vortpdf_S20_2 = Pdfs(vortlist_S20_2,path_S20_2+'y.dat')\n",
    "vortpdf_S25   = Pdfs(vortlist_S25,path_S25+'y.dat')"
   ]
  },
  {
   "cell_type": "code",
   "execution_count": 6,
   "metadata": {},
   "outputs": [
    {
     "name": "stdout",
     "output_type": "stream",
     "text": [
      "Files with 64 bins and 512 levels.\n",
      "Processing file /Volumes/Seagate/SCRATCH/qCBL_3D/Re025/1280x512x1280-S00/stats/pdfs/pdf46000.LnEnstrophyW_iW_i ...\n",
      "Files with 64 bins and 512 levels.\n",
      "Processing file /Volumes/Seagate/SCRATCH/qCBL_3D/Re025/1280x512x1280-S05/stats/pdfs/pdf57000.LnEnstrophyW_iW_i ...\n",
      "Files with 64 bins and 512 levels.\n",
      "Processing file /Volumes/Seagate/SCRATCH/qCBL_3D/Re025/1280x512x1280-S10/stats/pdfs/pdf84000.LnEnstrophyW_iW_i ...\n",
      "Files with 64 bins and 576 levels.\n",
      "Processing file /Volumes/Seagate/SCRATCH/qCBL_3D/Re025/1536x576x1536-S15/stats/pdfs/pdf76000.LnEnstrophyW_iW_i ...\n",
      "Files with 64 bins and 576 levels.\n",
      "Processing file /Volumes/Seagate/SCRATCH/qCBL_3D/Re025/S20-1536x576x2304/stats/pdfs/pdf75000.LnEnstrophyW_iW_i ...\n",
      "Files with 64 bins and 896 levels.\n",
      "Processing file /Volumes/Seagate/SCRATCH/qCBL_3D/Re025/2560x896x2560-S25/stats/pdfs/pdf110000.LnEnstrophyW_iW_i ...\n"
     ]
    }
   ],
   "source": [
    "# Create grid on which to interpolate pdfs\n",
    "\n",
    "S0_vortpdf_interp_data    = Pdfs([path_S0+'stats/pdfs/pdf46000.LnEnstrophyW_iW_i'],path_S0+'y.dat')\n",
    "S05_vortpdf_interp_data   = Pdfs([path_S05+'stats/pdfs/pdf57000.LnEnstrophyW_iW_i'],path_S05+'y.dat')\n",
    "S10_vortpdf_interp_data   = Pdfs([path_S10+'stats/pdfs/pdf84000.LnEnstrophyW_iW_i'],path_S10+'y.dat')\n",
    "S15_vortpdf_interp_data   = Pdfs([path_S15+'stats/pdfs/pdf76000.LnEnstrophyW_iW_i'],path_S15+'y.dat')\n",
    "S20_vortpdf_interp_data   = Pdfs([path_S20_2+'stats/pdfs/pdf75000.LnEnstrophyW_iW_i'],path_S20_2+'y.dat')\n",
    "S25_vortpdf_interp_data   = Pdfs([path_S25+'stats/pdfs/pdf110000.LnEnstrophyW_iW_i'],path_S25+'y.dat')"
   ]
  },
  {
   "cell_type": "code",
   "execution_count": 7,
   "metadata": {},
   "outputs": [],
   "source": [
    "# Interpolate pdfs in x-direction\n",
    "\n",
    "S0_vortpdf_interp = np.zeros((len(vortlist_S0),S0.y_len,vortpdf_S0.nb))\n",
    "for n in range(len(vortlist_S0)):\n",
    "    for j in range(S0.y_len):\n",
    "        S0_vortpdf_interp[n,j,:] = np.interp(S0_vortpdf_interp_data.xy[0,0,j,:],vortpdf_S0.xy[0,n,j,:],vortpdf_S0.pdf[n,j,:-2])\n",
    "\n",
    "S05_vortpdf_interp = np.zeros((len(vortlist_S05),S05.y_len,vortpdf_S05.nb))\n",
    "for n in range(len(vortlist_S05)):\n",
    "    for j in range(S05.y_len):\n",
    "        S05_vortpdf_interp[n,j,:] = np.interp(S05_vortpdf_interp_data.xy[0,0,j,:],vortpdf_S05.xy[0,n,j,:],vortpdf_S05.pdf[n,j,:-2])\n",
    "\n",
    "S10_vortpdf_interp = np.zeros((len(vortlist_S10),S10.y_len,vortpdf_S10.nb))\n",
    "for n in range(len(vortlist_S10)):\n",
    "    for j in range(S10.y_len):\n",
    "        S10_vortpdf_interp[n,j,:] = np.interp(S10_vortpdf_interp_data.xy[0,0,j,:],vortpdf_S10.xy[0,n,j,:],vortpdf_S10.pdf[n,j,:-2])\n",
    "\n",
    "S15_vortpdf_interp = np.zeros((len(vortlist_S15),S15.y_len,vortpdf_S15.nb))\n",
    "for n in range(len(vortlist_S15)):\n",
    "    for j in range(S15.y_len):\n",
    "        S15_vortpdf_interp[n,j,:] = np.interp(S15_vortpdf_interp_data.xy[0,0,j,:],vortpdf_S15.xy[0,n,j,:],vortpdf_S15.pdf[n,j,:-2])\n",
    "        \n",
    "S20_vortpdf_interp_1 = np.zeros((len(vortlist_S20_1),S20_1.y_len,vortpdf_S20_1.nb))\n",
    "for n in range(len(vortlist_S20_1)):\n",
    "    for j in range(S20_1.y_len):\n",
    "        S20_vortpdf_interp_1[n,j,:] = np.interp(S20_vortpdf_interp_data.xy[0,0,j,:],vortpdf_S20_1.xy[0,n,j,:],vortpdf_S20_1.pdf[n,j,:-2])\n",
    "\n",
    "S20_vortpdf_interp_2 = np.zeros((len(vortlist_S20_2),S20_2.y_len,vortpdf_S20_2.nb))\n",
    "for n in range(len(vortlist_S20_2)):\n",
    "    for j in range(S20_2.y_len):\n",
    "        S20_vortpdf_interp_2[n,j,:] = np.interp(S20_vortpdf_interp_data.xy[0,0,j,:],vortpdf_S20_2.xy[0,n,j,:],vortpdf_S20_2.pdf[n,j,:-2])\n",
    "\n",
    "S20_vortpdf_interp = np.concatenate((S20_vortpdf_interp_1,S20_vortpdf_interp_2),axis=0)\n",
    "\n",
    "S25_vortpdf_interp = np.zeros((len(vortlist_S25),S25.y_len,vortpdf_S25.nb))\n",
    "for n in range(len(vortlist_S25)):\n",
    "    for j in range(S25.y_len):\n",
    "        S25_vortpdf_interp[n,j,:] = np.interp(S25_vortpdf_interp_data.xy[0,0,j,:],vortpdf_S25.xy[0,n,j,:],vortpdf_S25.pdf[n,j,:-2])"
   ]
  },
  {
   "cell_type": "code",
   "execution_count": 8,
   "metadata": {},
   "outputs": [],
   "source": [
    "# Running mean of pdfs\n",
    "\n",
    "S0_vortpdf_interp_runmean = np.zeros((np.ma.size(S0_vortpdf_interp,0)-2,S0.y_len,vortpdf_S0.nb))\n",
    "for n in range(1,np.ma.size(S0_vortpdf_interp,0)-1):\n",
    "    S0_vortpdf_interp_runmean[n-1,:,:] = np.mean(S0_vortpdf_interp[n-1:n+2,:,:],axis=0)\n",
    "\n",
    "S05_vortpdf_interp_runmean = np.zeros((np.ma.size(S05_vortpdf_interp,0)-2,S05.y_len,vortpdf_S05.nb))\n",
    "for n in range(1,np.ma.size(S05_vortpdf_interp,0)-1):\n",
    "    S05_vortpdf_interp_runmean[n-1,:,:] = np.mean(S05_vortpdf_interp[n-1:n+2,:,:],axis=0)\n",
    "\n",
    "S10_vortpdf_interp_runmean = np.zeros((np.ma.size(S10_vortpdf_interp,0)-2,S10.y_len,vortpdf_S10.nb))\n",
    "for n in range(1,np.ma.size(S10_vortpdf_interp,0)-1):\n",
    "    S10_vortpdf_interp_runmean[n-1,:,:] = np.mean(S10_vortpdf_interp[n-1:n+2,:,:],axis=0)\n",
    "\n",
    "S15_vortpdf_interp_runmean = np.zeros((np.ma.size(S15_vortpdf_interp,0)-2,S15.y_len,vortpdf_S15.nb))\n",
    "for n in range(1,np.ma.size(S15_vortpdf_interp,0)-1):\n",
    "    S15_vortpdf_interp_runmean[n-1,:,:] = np.mean(S15_vortpdf_interp[n-1:n+2,:,:],axis=0)\n",
    "\n",
    "S20_vortpdf_interp_runmean = np.zeros((np.ma.size(S20_vortpdf_interp,0)-2,S20_1.y_len,vortpdf_S20_1.nb))\n",
    "for n in range(1,np.ma.size(S20_vortpdf_interp,0)-1):\n",
    "    S20_vortpdf_interp_runmean[n-1,:,:] = np.mean(S20_vortpdf_interp[n-1:n+2,:,:],axis=0)\n",
    "\n",
    "S25_vortpdf_interp_runmean = np.zeros((np.ma.size(S25_vortpdf_interp,0)-2,S25.y_len,vortpdf_S25.nb))\n",
    "for n in range(1,np.ma.size(S25_vortpdf_interp,0)-1):\n",
    "    S25_vortpdf_interp_runmean[n-1,:,:] = np.mean(S25_vortpdf_interp[n-1:n+2,:,:],axis=0)\n"
   ]
  },
  {
   "cell_type": "code",
   "execution_count": 9,
   "metadata": {},
   "outputs": [],
   "source": [
    "# Find mean of pdf at each height\n",
    "\n",
    "meanvort_S0 = np.zeros((np.ma.size(S0_vortpdf_interp_runmean,0),S0.y_len))\n",
    "meanprob_vort_S0 = np.zeros((np.ma.size(S0_vortpdf_interp_runmean,0),S0.y_len))\n",
    "for t in range(0,np.ma.size(S0_vortpdf_interp_runmean,0)):\n",
    "    for j in range(0,S0.y_len):\n",
    "        meanvort_S0[t,j] = np.average(S0_vortpdf_interp_data.xy[0,0,j,:],weights=S0_vortpdf_interp_runmean[t,j,:])\n",
    "        meanprob_vort_S0[t,j] = S0_vortpdf_interp_runmean[t,j,np.argmin( np.abs(S0_vortpdf_interp_data.xy[0,0,j,:] -meanvort_S0[t,j]) )]\n",
    "meanvort_S0 = np.log10(np.exp(meanvort_S0)/(ceps*B0/nu))\n",
    "\n",
    "meanvort_S05 = np.zeros((np.ma.size(S05_vortpdf_interp_runmean,0),S05.y_len))\n",
    "meanprob_vort_S05 = np.zeros((np.ma.size(S05_vortpdf_interp_runmean,0),S05.y_len))\n",
    "for t in range(0,np.ma.size(S05_vortpdf_interp_runmean,0)):\n",
    "    for j in range(0,S05.y_len):\n",
    "        meanvort_S05[t,j] = np.average(S05_vortpdf_interp_data.xy[0,0,j,:],weights=S05_vortpdf_interp_runmean[t,j,:])\n",
    "        meanprob_vort_S05[t,j] = S05_vortpdf_interp_runmean[t,j,np.argmin( np.abs(S05_vortpdf_interp_data.xy[0,0,j,:] -meanvort_S05[t,j]) )]\n",
    "meanvort_S05 = np.log10(np.exp(meanvort_S05)/(ceps*B0/nu))\n",
    "\n",
    "meanvort_S10 = np.zeros((np.ma.size(S10_vortpdf_interp_runmean,0),S10.y_len))\n",
    "meanprob_vort_S10 = np.zeros((np.ma.size(S10_vortpdf_interp_runmean,0),S10.y_len))\n",
    "for t in range(0,np.ma.size(S10_vortpdf_interp_runmean,0)):\n",
    "    for j in range(0,S10.y_len):\n",
    "        meanvort_S10[t,j] = np.average(S10_vortpdf_interp_data.xy[0,0,j,:],weights=S10_vortpdf_interp_runmean[t,j,:])\n",
    "        meanprob_vort_S10[t,j] = S10_vortpdf_interp_runmean[t,j,np.argmin( np.abs(S10_vortpdf_interp_data.xy[0,0,j,:] -meanvort_S10[t,j]) )]\n",
    "meanvort_S10 = np.log10(np.exp(meanvort_S10)/(ceps*B0/nu))\n",
    "\n",
    "meanvort_S15 = np.zeros((np.ma.size(S15_vortpdf_interp_runmean,0),S15.y_len))\n",
    "meanprob_vort_S15 = np.zeros((np.ma.size(S15_vortpdf_interp_runmean,0),S15.y_len))\n",
    "for t in range(0,np.ma.size(S15_vortpdf_interp_runmean,0)):\n",
    "    for j in range(0,S15.y_len):\n",
    "        meanvort_S15[t,j] = np.average(S15_vortpdf_interp_data.xy[0,0,j,:],weights=S15_vortpdf_interp_runmean[t,j,:])\n",
    "        meanprob_vort_S15[t,j] = S15_vortpdf_interp_runmean[t,j,np.argmin( np.abs(S15_vortpdf_interp_data.xy[0,0,j,:] -meanvort_S15[t,j]) )]\n",
    "meanvort_S15 = np.log10(np.exp(meanvort_S15)/(ceps*B0/nu))\n",
    "\n",
    "meanvort_S20 = np.zeros((np.ma.size(S20_vortpdf_interp_runmean,0),S20_1.y_len))\n",
    "meanprob_vort_S20 = np.zeros((np.ma.size(S20_vortpdf_interp_runmean,0),S20_1.y_len))\n",
    "for t in range(0,np.ma.size(S20_vortpdf_interp_runmean,0)):\n",
    "    for j in range(0,S20_1.y_len):\n",
    "        meanvort_S20[t,j] = np.average(S20_vortpdf_interp_data.xy[0,0,j,:],weights=S20_vortpdf_interp_runmean[t,j,:])\n",
    "        meanprob_vort_S20[t,j] = S20_vortpdf_interp_runmean[t,j,np.argmin( np.abs(S20_vortpdf_interp_data.xy[0,0,j,:] -meanvort_S20[t,j]) )]\n",
    "meanvort_S20 = np.log10(np.exp(meanvort_S20)/(ceps*B0/nu))\n",
    "\n",
    "meanvort_S25 = np.zeros((np.ma.size(S25_vortpdf_interp_runmean,0),S25.y_len))\n",
    "meanprob_vort_S25 = np.zeros((np.ma.size(S25_vortpdf_interp_runmean,0),S25.y_len))\n",
    "for t in range(0,np.ma.size(S25_vortpdf_interp_runmean,0)):\n",
    "    for j in range(0,S25.y_len):\n",
    "        meanvort_S25[t,j] = np.average(S25_vortpdf_interp_data.xy[0,0,j,:],weights=S25_vortpdf_interp_runmean[t,j,:])\n",
    "        meanprob_vort_S25[t,j] = S25_vortpdf_interp_runmean[t,j,np.argmin( np.abs(S25_vortpdf_interp_data.xy[0,0,j,:] -meanvort_S25[t,j]) )]\n",
    "meanvort_S25 = np.log10(np.exp(meanvort_S25)/(ceps*B0/nu))"
   ]
  },
  {
   "cell_type": "code",
   "execution_count": 10,
   "metadata": {},
   "outputs": [],
   "source": [
    "# Find saddle as point where meanprob has a minimum\n",
    "\n",
    "y_vort_S0_saddle = np.zeros(np.ma.size(S0_vortpdf_interp_runmean,0))\n",
    "meanvort_S0_saddle = np.zeros(np.ma.size(S0_vortpdf_interp_runmean,0))\n",
    "for t in range(np.ma.size(S0_vortpdf_interp_runmean,0)):\n",
    "    j_min = np.argmin(np.abs(S0.y -0.5 *z_enc_runningmean_S0[t]))\n",
    "    j_max = np.argmin(np.abs(S0.y -2.0 *z_enc_runningmean_S0[t]))\n",
    "\n",
    "    y_vort_S0_saddle[t] = S0.y[np.argmin(meanprob_vort_S0[t,j_min:j_max])+j_min]\n",
    "    meanvort_S0_saddle[t] = meanvort_S0[t,np.argmin(np.abs(y_vort_S0_saddle[t]-S0.y))]\n",
    "    y_vort_S0_saddle[t] = y_vort_S0_saddle[t]/z_enc_runningmean_S0[t]\n",
    "\n",
    "y_vort_S05_saddle = np.zeros(np.ma.size(S05_vortpdf_interp_runmean,0))\n",
    "meanvort_S05_saddle = np.zeros(np.ma.size(S05_vortpdf_interp_runmean,0))\n",
    "for t in range(np.ma.size(S05_vortpdf_interp_runmean,0)):\n",
    "    j_min = np.argmin(np.abs(S05.y -0.5 *z_enc_runningmean_S05[t]))\n",
    "    j_max = np.argmin(np.abs(S05.y -2.0 *z_enc_runningmean_S05[t]))\n",
    "\n",
    "    y_vort_S05_saddle[t] = S05.y[np.argmin(meanprob_vort_S05[t,j_min:j_max])+j_min]\n",
    "    meanvort_S05_saddle[t] = meanvort_S05[t,np.argmin(np.abs(y_vort_S05_saddle[t]-S05.y))]\n",
    "    y_vort_S05_saddle[t] = y_vort_S05_saddle[t]/z_enc_runningmean_S05[t]\n",
    "\n",
    "y_vort_S10_saddle = np.zeros(np.ma.size(S10_vortpdf_interp_runmean,0))\n",
    "meanvort_S10_saddle = np.zeros(np.ma.size(S10_vortpdf_interp_runmean,0))\n",
    "for t in range(np.ma.size(S10_vortpdf_interp_runmean,0)):\n",
    "    j_min = np.argmin(np.abs(S10.y -0.5 *z_enc_runningmean_S10[t]))\n",
    "    j_max = np.argmin(np.abs(S10.y -2.0 *z_enc_runningmean_S10[t]))\n",
    "\n",
    "    y_vort_S10_saddle[t] = S10.y[np.argmin(meanprob_vort_S10[t,j_min:j_max])+j_min]\n",
    "    meanvort_S10_saddle[t] = meanvort_S10[t,np.argmin(np.abs(y_vort_S10_saddle[t]-S10.y))]\n",
    "    y_vort_S10_saddle[t] = y_vort_S10_saddle[t]/z_enc_runningmean_S10[t]\n",
    "\n",
    "y_vort_S15_saddle = np.zeros(np.ma.size(S15_vortpdf_interp_runmean,0))\n",
    "meanvort_S15_saddle = np.zeros(np.ma.size(S15_vortpdf_interp_runmean,0))\n",
    "for t in range(np.ma.size(S15_vortpdf_interp_runmean,0)):\n",
    "    j_min = np.argmin(np.abs(S15.y -0.5 *z_enc_runningmean_S15[t]))\n",
    "    j_max = np.argmin(np.abs(S15.y -2.0 *z_enc_runningmean_S15[t]))\n",
    "\n",
    "    y_vort_S15_saddle[t] = S15.y[np.argmin(meanprob_vort_S15[t,j_min:j_max])+j_min]\n",
    "    meanvort_S15_saddle[t] = meanvort_S15[t,np.argmin(np.abs(y_vort_S15_saddle[t]-S15.y))]\n",
    "    y_vort_S15_saddle[t] = y_vort_S15_saddle[t]/z_enc_runningmean_S15[t]\n",
    "\n",
    "y_vort_S20_saddle = np.zeros(np.ma.size(S20_vortpdf_interp_runmean,0))\n",
    "meanvort_S20_saddle = np.zeros(np.ma.size(S20_vortpdf_interp_runmean,0))\n",
    "for t in range(np.ma.size(S20_vortpdf_interp_runmean,0)):\n",
    "    j_min = np.argmin(np.abs(S20_1.y -0.5 *z_enc_runningmean_S20[t]))\n",
    "    j_max = np.argmin(np.abs(S20_1.y -2.0 *z_enc_runningmean_S20[t]))\n",
    "\n",
    "    y_vort_S20_saddle[t] = S20_1.y[np.argmin(meanprob_vort_S20[t,j_min:j_max])+j_min]\n",
    "    meanvort_S20_saddle[t] = meanvort_S20[t,np.argmin(np.abs(y_vort_S20_saddle[t]-S20_1.y))]\n",
    "    y_vort_S20_saddle[t] = y_vort_S20_saddle[t]/z_enc_runningmean_S20[t]\n",
    "\n",
    "y_vort_S25_saddle = np.zeros(np.ma.size(S25_vortpdf_interp_runmean,0))\n",
    "meanvort_S25_saddle = np.zeros(np.ma.size(S25_vortpdf_interp_runmean,0))\n",
    "for t in range(np.ma.size(S25_vortpdf_interp_runmean,0)):\n",
    "    j_min = np.argmin(np.abs(S25.y -0.5 *z_enc_runningmean_S25[t]))\n",
    "    j_max = np.argmin(np.abs(S25.y -2.0 *z_enc_runningmean_S25[t]))\n",
    "\n",
    "    y_vort_S25_saddle[t] = S25.y[np.argmin(meanprob_vort_S25[t,j_min:j_max])+j_min]\n",
    "    meanvort_S25_saddle[t] = meanvort_S25[t,np.argmin(np.abs(y_vort_S25_saddle[t]-S25.y))]\n",
    "    y_vort_S25_saddle[t] = y_vort_S25_saddle[t]/z_enc_runningmean_S25[t]"
   ]
  },
  {
   "cell_type": "code",
   "execution_count": 11,
   "metadata": {},
   "outputs": [],
   "source": [
    "# concatenate over time\n",
    "\n",
    "time = np.concatenate((S20_1.z_enc/L0,S20_2.z_enc/L0))\n",
    "z_if = np.concatenate((S20_1.z_if/S20_1.z_enc,S20_2.z_if/S20_2.z_enc))\n",
    "z_ig = np.concatenate((S20_1.z_ig/S20_1.z_enc,S20_2.z_ig/S20_2.z_enc))"
   ]
  },
  {
   "cell_type": "code",
   "execution_count": 18,
   "metadata": {},
   "outputs": [
    {
     "data": {
      "image/png": "[encoded data removed]",
      "text/plain": [
       "<Figure size 720x360 with 2 Axes>"
      ]
     },
     "metadata": {
      "needs_background": "light"
     },
     "output_type": "display_data"
    }
   ],
   "source": [
    "# Plot\n",
    "\n",
    "#blues = matplotlib.cm.get_cmap('Blues')\n",
    "\n",
    "colors = []\n",
    "for value in [0.1,0.25,0.40,0.55,0.7,0.85]:\n",
    "    colors.append(matplotlib.cm.get_cmap('plasma_r')(value))\n",
    "\n",
    "f, (ax1,ax2) = plt.subplots(1,2,figsize=(10,5))\n",
    "ax1.grid(True,linewidth=1.5)\n",
    "ax2.grid(True,linewidth=1.5)\n",
    "ax1.tick_params(bottom=False,left=False)\n",
    "ax2.tick_params(bottom=False,left=False)\n",
    "ax1.set_ylim(1,1.6)\n",
    "ax1.set_xlim(15,30)\n",
    "ax2.set_ylim(-2,0)\n",
    "ax2.set_xlim(15,30)\n",
    "ax1.plot(S0.z_enc[1:-1]/L0, y_vort_S0_saddle,   c=colors[0])\n",
    "ax1.plot(S05.z_enc[1:-1]/L0,y_vort_S05_saddle,  c=colors[1])\n",
    "ax1.plot(S10.z_enc[1:-1]/L0,y_vort_S10_saddle,  c=colors[2])\n",
    "ax1.plot(S15.z_enc[1:-1]/L0,y_vort_S15_saddle,  c=colors[3])\n",
    "ax1.plot(time[1:-1],        y_vort_S20_saddle,  c=colors[4])\n",
    "ax1.plot(S25.z_enc[1:-1]/L0,y_vort_S25_saddle,  c=colors[5])\n",
    "ax2.plot(S0.z_enc[1:-1]/L0, meanvort_S0_saddle,  c=colors[0], label=r'$Fr_0=0$')\n",
    "ax2.plot(S05.z_enc[1:-1]/L0,meanvort_S05_saddle, c=colors[1], label=r'$Fr_0=5$')\n",
    "ax2.plot(S10.z_enc[1:-1]/L0,meanvort_S10_saddle, c=colors[2], label=r'$Fr_0=10$')\n",
    "ax2.plot(S15.z_enc[1:-1]/L0,meanvort_S15_saddle, c=colors[3], label=r'$Fr_0=15$')\n",
    "ax2.plot(time[1:-1],        meanvort_S20_saddle, c=colors[4], label=r'$Fr_0=20$')\n",
    "ax2.plot(S25.z_enc[1:-1]/L0,meanvort_S25_saddle, c=colors[5], label=r'$Fr_0=25$')\n",
    "ax1.set_xlabel(r'$z_{enc}/L_0$')\n",
    "ax2.set_xlabel(r'$z_{enc}/L_0$')\n",
    "ax1.set_ylabel(r'$z_\\omega/z_{enc}$')\n",
    "ax2.set_ylabel(r'$\\mathrm{log}_{10}(\\omega^2/\\omega_0^2)$')\n",
    "ax1.set_title('(a)',fontsize=24,loc='left')\n",
    "ax2.set_title('(b)',fontsize=24,loc='left')\n",
    "ax2.legend(loc='best',fontsize=18,handlelength=1,borderaxespad=0.2,ncol=2,columnspacing=1)\n",
    "plt.tight_layout()\n",
    "plt.savefig(opath+'pdfs_saddle_point_mean.pdf',bbox_inches='tight')\n",
    "plt.show()"
   ]
  },
  {
   "cell_type": "code",
   "execution_count": 14,
   "metadata": {},
   "outputs": [
    {
     "data": {
      "text/plain": [
       "-0.6010776069840301"
      ]
     },
     "execution_count": 14,
     "metadata": {},
     "output_type": "execute_result"
    }
   ],
   "source": [
    "np.mean(meanvort_S0_saddle)"
   ]
  },
  {
   "cell_type": "code",
   "execution_count": 15,
   "metadata": {},
   "outputs": [
    {
     "data": {
      "text/plain": [
       "-0.46751851045102605"
      ]
     },
     "execution_count": 15,
     "metadata": {},
     "output_type": "execute_result"
    }
   ],
   "source": [
    "np.mean(meanvort_S05_saddle)"
   ]
  },
  {
   "cell_type": "code",
   "execution_count": 19,
   "metadata": {},
   "outputs": [
    {
     "data": {
      "text/plain": [
       "-0.6220985603695863"
      ]
     },
     "execution_count": 19,
     "metadata": {},
     "output_type": "execute_result"
    }
   ],
   "source": [
    "np.mean(meanvort_S10_saddle)"
   ]
  },
  {
   "cell_type": "code",
   "execution_count": 20,
   "metadata": {},
   "outputs": [
    {
     "data": {
      "text/plain": [
       "-0.8082419000672921"
      ]
     },
     "execution_count": 20,
     "metadata": {},
     "output_type": "execute_result"
    }
   ],
   "source": [
    "np.mean(meanvort_S15_saddle)"
   ]
  },
  {
   "cell_type": "code",
   "execution_count": 21,
   "metadata": {},
   "outputs": [
    {
     "data": {
      "text/plain": [
       "-0.8658194606272314"
      ]
     },
     "execution_count": 21,
     "metadata": {},
     "output_type": "execute_result"
    }
   ],
   "source": [
    "np.mean(meanvort_S20_saddle)"
   ]
  },
  {
   "cell_type": "code",
   "execution_count": 22,
   "metadata": {},
   "outputs": [
    {
     "data": {
      "text/plain": [
       "-0.8483379857604956"
      ]
     },
     "execution_count": 22,
     "metadata": {},
     "output_type": "execute_result"
    }
   ],
   "source": [
    "np.mean(meanvort_S25_saddle)"
   ]
  },
  {
   "cell_type": "code",
   "execution_count": 16,
   "metadata": {},
   "outputs": [
    {
     "data": {
      "text/plain": [
       "1.3708559715452309"
      ]
     },
     "execution_count": 16,
     "metadata": {},
     "output_type": "execute_result"
    }
   ],
   "source": [
    "np.sqrt((10**(-0.6010776069840301))*(ceps*B0/nu))"
   ]
  },
  {
   "cell_type": "code",
   "execution_count": 17,
   "metadata": {},
   "outputs": [
    {
     "data": {
      "text/plain": [
       "1.4186253517430367"
      ]
     },
     "execution_count": 17,
     "metadata": {},
     "output_type": "execute_result"
    }
   ],
   "source": [
    "np.mean(y_vort_S25_saddle)"
   ]
  },
  {
   "cell_type": "code",
   "execution_count": null,
   "metadata": {},
   "outputs": [],
   "source": []
  }
 ],
 "metadata": {
  "kernelspec": {
   "display_name": "Python 3",
   "language": "python",
   "name": "python3"
  },
  "language_info": {
   "codemirror_mode": {
    "name": "ipython",
    "version": 3
   },
   "file_extension": ".py",
   "mimetype": "text/x-python",
   "name": "python",
   "nbconvert_exporter": "python",
   "pygments_lexer": "ipython3",
   "version": "3.8.5"
  }
 },
 "nbformat": 4,
 "nbformat_minor": 4
}
